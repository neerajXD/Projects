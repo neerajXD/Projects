{
  "nbformat": 4,
  "nbformat_minor": 0,
  "metadata": {
    "colab": {
      "provenance": []
    },
    "kernelspec": {
      "name": "python3",
      "display_name": "Python 3"
    },
    "language_info": {
      "name": "python"
    }
  },
  "cells": [
    {
      "cell_type": "code",
      "source": [
        "import numpy as np\n",
        "import pandas as pd\n",
        "from sklearn.impute import SimpleImputer\n",
        "from sklearn.preprocessing import StandardScaler\n",
        "from sklearn.preprocessing import LabelEncoder\n",
        "from sklearn.metrics import accuracy_score\n",
        "from sklearn.model_selection import train_test_split\n",
        "from sklearn.ensemble import RandomForestClassifier\n",
        "\n",
        "# Load the dataset\n",
        "data = pd.read_csv('weatherAUS.csv')\n"
      ],
      "metadata": {
        "id": "Qxl8E1xM71J0"
      },
      "execution_count": 3,
      "outputs": []
    },
    {
      "cell_type": "code",
      "source": [
        "# Select the features and target variable\n",
        "features = data.iloc[:, [1, 2, 3, 4, 7, 8, 9, 10, 11, 12, 13, 14, 15, 16, 17, 18, 19, 20, 21]].values\n",
        "target = data.iloc[:, -1].values\n",
        "\n",
        "\n",
        "\n"
      ],
      "metadata": {
        "id": "Xq8YnSXo-k6g"
      },
      "execution_count": 4,
      "outputs": []
    },
    {
      "cell_type": "code",
      "source": [
        "# Impute missing values with most frequent value\n",
        "imputer = SimpleImputer(missing_values=np.nan, strategy='most_frequent')\n",
        "features = imputer.fit_transform(features)\n",
        "\n",
        "\n"
      ],
      "metadata": {
        "id": "tXE3gvs8CrNr"
      },
      "execution_count": 5,
      "outputs": []
    },
    {
      "cell_type": "code",
      "source": [
        "# Encode categorical features\n",
        "encoder1 = LabelEncoder()\n",
        "features[:, 0] = encoder1.fit_transform(features[:, 0])\n",
        "encoder2 = LabelEncoder()\n",
        "features[:, 4] = encoder2.fit_transform(features[:, 4])\n",
        "encoder3 = LabelEncoder()\n",
        "features[:, 6] = encoder3.fit_transform(features[:, 6])\n",
        "encoder4 = LabelEncoder()\n",
        "features[:, 7] = encoder4.fit_transform(features[:, 7])\n",
        "encoder5 = LabelEncoder()\n",
        "features[:, -1] = encoder5.fit_transform(features[:, -1])\n",
        "\n",
        "# Encode target variable\n",
        "encoder6 = LabelEncoder()\n",
        "target = encoder6.fit_transform(target)\n",
        "\n"
      ],
      "metadata": {
        "id": "Kw61MS1-Ctgd"
      },
      "execution_count": 6,
      "outputs": []
    },
    {
      "cell_type": "code",
      "source": [
        "# Scale the features\n",
        "scaler = StandardScaler()\n",
        "features = scaler.fit_transform(features)\n",
        "\n"
      ],
      "metadata": {
        "id": "Vwpxptr4CwVb"
      },
      "execution_count": 7,
      "outputs": []
    },
    {
      "cell_type": "code",
      "source": [
        "# Split the data into training and testing sets\n",
        "train_features, test_features, train_target, test_target = train_test_split(features, target, test_size=0.2, random_state=0)\n",
        "\n"
      ],
      "metadata": {
        "id": "R_1n_tCKCyfz"
      },
      "execution_count": 8,
      "outputs": []
    },
    {
      "cell_type": "code",
      "source": [
        "'''# Train a random forest classifier\n",
        "rf_classifier = RandomForestClassifier(n_estimators=100, random_state=0)\n",
        "rf_classifier.fit(train_features, train_target)\n",
        "'''"
      ],
      "metadata": {
        "colab": {
          "base_uri": "https://localhost:8080/",
          "height": 35
        },
        "id": "ANMhsu5MCzir",
        "outputId": "9f79670f-0b71-4ef9-aea4-bf6f67952c2c"
      },
      "execution_count": 2,
      "outputs": [
        {
          "output_type": "execute_result",
          "data": {
            "text/plain": [
              "'# Train a random forest classifier\\nrf_classifier = RandomForestClassifier(n_estimators=100, random_state=0)\\nrf_classifier.fit(train_features, train_target)\\n'"
            ],
            "application/vnd.google.colaboratory.intrinsic+json": {
              "type": "string"
            }
          },
          "metadata": {},
          "execution_count": 2
        }
      ]
    },
    {
      "cell_type": "code",
      "source": [
        "# Train and evaluate the Decision Tree Classifier\n",
        "from sklearn.tree import DecisionTreeClassifier\n",
        "dtc = DecisionTreeClassifier(random_state=0)\n",
        "dtc.fit(train_features, train_target)\n",
        "dtc_y_pred = dtc.predict(test_features)\n",
        "dtc_accuracy = accuracy_score(test_target, dtc_y_pred)\n",
        "\n",
        "# Train and evaluate the Logistic Regression Classifier\n",
        "from sklearn.linear_model import LogisticRegression\n",
        "lr = LogisticRegression(random_state=0)\n",
        "lr.fit(train_features, train_target)\n",
        "lr_y_pred = lr.predict(test_features)\n",
        "lr_accuracy = accuracy_score(test_target, lr_y_pred)\n",
        "\n",
        "# Train and evaluate the KNN Classifier\n",
        "from sklearn.neighbors import KNeighborsClassifier\n",
        "knn = KNeighborsClassifier()\n",
        "knn.fit(train_features, train_target)\n",
        "knn_y_pred = knn.predict(test_features)\n",
        "knn_accuracy = accuracy_score(test_target, knn_y_pred)\n",
        "\n",
        "# Train and evaluate the Random Forest Classifier\n",
        "from sklearn.ensemble import RandomForestClassifier\n",
        "rfc = RandomForestClassifier(n_estimators=100,random_state=0)\n",
        "rfc.fit(train_features, train_target)\n",
        "rfc_y_pred = rfc.predict(test_features)\n",
        "rfc_accuracy = accuracy_score(test_target, rfc_y_pred)\n",
        "\n",
        "# Print the accuracies\n",
        "print(\"Decision Tree Accuracy:\", dtc_accuracy)\n",
        "print(\"Logistic Regression Accuracy:\", lr_accuracy)\n",
        "print(\"KNN Accuracy:\", knn_accuracy)\n",
        "print(\"Random Forest Accuracy:\", rfc_accuracy)"
      ],
      "metadata": {
        "colab": {
          "base_uri": "https://localhost:8080/"
        },
        "id": "1KVrDrLYRjrd",
        "outputId": "26e97a34-d529-4efc-ee99-20d459c03fd8"
      },
      "execution_count": 9,
      "outputs": [
        {
          "output_type": "stream",
          "name": "stdout",
          "text": [
            "Decision Tree Accuracy: 0.7437551848096599\n",
            "Logistic Regression Accuracy: 0.8108581436077058\n",
            "KNN Accuracy: 0.8032998433035303\n",
            "Random Forest Accuracy: 0.8258825698221034\n"
          ]
        }
      ]
    },
    {
      "cell_type": "code",
      "source": [
        "# Ask the user for input\n",
        "print('Please provide the following information:')\n",
        "location = input('Location: ')\n",
        "min_temp = float(input('Minimum temperature (in degrees Celsius): '))\n",
        "max_temp = float(input('Maximum temperature (in degrees Celsius): '))\n",
        "rainfall = float(input('Rainfall (in mm): '))\n",
        "wind_gust_dir = input('Wind gust direction: ')\n",
        "wind_gust_speed = float(input('Wind gust speed (in km/h): '))\n",
        "wind_dir_9am = input('Wind direction at 9am: ')\n",
        "wind_speed_9am = float(input('Wind speed at 9am (in km/h): '))\n",
        "humidity_9am = float(input('Humidity at 9am: '))\n",
        "pressure_9am = float(input('Pressure at 9am (in hPa): '))\n",
        "cloud_9am = float(input('Cloud at 9am: '))\n",
        "temp_9am = float(input('Temperature at 9am (in degrees Celsius): '))\n",
        "humidity_3pm = float(input('Humidity at 3pm: '))\n",
        "pressure_3pm = float(input('Pressure at 3pm (in hPa): '))\n",
        "cloud_3pm = float(input('Cloud at 3pm: '))\n",
        "temp_3pm = float(input('Temperature at 3pm (in degrees Celsius): '))\n",
        "rain_today = input('Did it rain today? (yes or no): ')\n",
        "\n"
      ],
      "metadata": {
        "colab": {
          "base_uri": "https://localhost:8080/"
        },
        "id": "G0S5HtQFAbK1",
        "outputId": "66fe87ab-561c-4f7f-cfad-59e1802503f3"
      },
      "execution_count": 10,
      "outputs": [
        {
          "name": "stdout",
          "output_type": "stream",
          "text": [
            "Please provide the following information:\n",
            "Location: Albury\n",
            "Minimum temperature (in degrees Celsius): 15\n",
            "Maximum temperature (in degrees Celsius): 27\n",
            "Rainfall (in mm): 1.1\n",
            "Wind gust direction: NE\n",
            "Wind gust speed (in km/h): 45\n",
            "Wind direction at 9am: N\n",
            "Wind speed at 9am (in km/h): 6\n",
            "Humidity at 9am: 80\n",
            "Pressure at 9am (in hPa): 1011\n",
            "Cloud at 9am: 8\n",
            "Temperature at 9am (in degrees Celsius): 18\n",
            "Humidity at 3pm: 83\n",
            "Pressure at 3pm (in hPa): 1008\n",
            "Cloud at 3pm: 1\n",
            "Temperature at 3pm (in degrees Celsius): 21\n",
            "Did it rain today? (yes or no): No\n"
          ]
        }
      ]
    },
    {
      "cell_type": "code",
      "source": [
        "# Encode the user input\n",
        "location_encoded = encoder1.transform([location])[0]\n",
        "wind_gust_dir_encoded = encoder2.transform([wind_gust_dir])[0]\n",
        "wind_dir_9am_encoded = encoder3.transform([wind_dir_9am])[0]\n",
        "rain_today_encoded = encoder5.transform([rain_today])[0]  # Fix incorrect encoder index\n",
        "user_input = np.array([[location_encoded, min_temp, max_temp, rainfall, wind_gust_dir_encoded, wind_gust_speed, wind_dir_9am_encoded, wind_speed_9am, humidity_9am, pressure_9am, cloud_9am, temp_9am, humidity_3pm, pressure_3pm, cloud_3pm, temp_3pm, rain_today_encoded, 0, 0]])  # Add missing columns and set dummy values\n",
        "user_input = scaler.transform(user_input)\n",
        "user_input = user_input.reshape(1, -1)  # Convert to 2D array\n",
        "prediction = rfc.predict(user_input)\n",
        "decoded_prediction = encoder6.inverse_transform(prediction)\n",
        "print('The predicted rainfall for tomorrow is:', decoded_prediction)\n"
      ],
      "metadata": {
        "colab": {
          "base_uri": "https://localhost:8080/"
        },
        "id": "SUIp0MsFHN0M",
        "outputId": "680476af-86a9-44b6-ad7f-ee20021eb30c"
      },
      "execution_count": 11,
      "outputs": [
        {
          "output_type": "stream",
          "name": "stdout",
          "text": [
            "The predicted rainfall for tomorrow is: ['No']\n"
          ]
        }
      ]
    }
  ]
}