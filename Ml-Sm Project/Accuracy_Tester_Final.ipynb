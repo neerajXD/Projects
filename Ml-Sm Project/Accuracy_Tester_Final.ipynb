{
  "nbformat": 4,
  "nbformat_minor": 0,
  "metadata": {
    "colab": {
      "provenance": []
    },
    "kernelspec": {
      "name": "python3",
      "display_name": "Python 3"
    },
    "language_info": {
      "name": "python"
    }
  },
  "cells": [
    {
      "cell_type": "code",
      "execution_count": null,
      "metadata": {
        "colab": {
          "base_uri": "https://localhost:8080/"
        },
        "id": "OEaGEsYaIQ60",
        "outputId": "66796a27-65e8-4b6f-86d6-bf99052b96a9"
      },
      "outputs": [
        {
          "output_type": "stream",
          "name": "stderr",
          "text": [
            "/usr/local/lib/python3.9/dist-packages/sklearn/preprocessing/_label.py:116: DataConversionWarning: A column-vector y was passed when a 1d array was expected. Please change the shape of y to (n_samples, ), for example using ravel().\n",
            "  y = column_or_1d(y, warn=True)\n"
          ]
        },
        {
          "output_type": "stream",
          "name": "stdout",
          "text": [
            "Decision Tree Accuracy: 0.7793150051570225\n",
            "Logistic Regression Accuracy: 0.8383540206992212\n",
            "KNN Accuracy: 0.8269730056549418\n",
            "Random Forest Accuracy: 0.8499484297755806\n"
          ]
        }
      ],
      "source": [
        "import numpy as np\n",
        "import pandas as pd\n",
        "from sklearn.metrics import accuracy_score\n",
        "\n",
        "# Load the dataset\n",
        "dataset = pd.read_csv('weatherAUS.csv')\n",
        "\n",
        "# Split the data into input and output variables\n",
        "features = dataset.iloc[:,[1,2,3,4,7,8,9,10,11,12,13,14,15,16,17,18,19,20,21]].values\n",
        "target = dataset.iloc[:,-1].values.reshape(-1,1)\n",
        "\n",
        "# Handle missing values\n",
        "from sklearn.impute import SimpleImputer\n",
        "imputer = SimpleImputer(missing_values=np.nan,strategy='most_frequent')\n",
        "features = imputer.fit_transform(features)\n",
        "target = imputer.fit_transform(target)\n",
        "\n",
        "# Encode categorical variables\n",
        "from sklearn.preprocessing import LabelEncoder\n",
        "categorical_columns = [0, 4, 6, 7, -1]\n",
        "for col in categorical_columns:\n",
        "    le = LabelEncoder()\n",
        "    features[:,col] = le.fit_transform(features[:,col])\n",
        "    if col == -1:\n",
        "        target = le.fit_transform(target)\n",
        "\n",
        "# Scale the data\n",
        "from sklearn.preprocessing import StandardScaler\n",
        "sc = StandardScaler()\n",
        "features = sc.fit_transform(features)\n",
        "\n",
        "# Split the data into training and testing sets\n",
        "from sklearn.model_selection import train_test_split\n",
        "train_features,test_features,train_target,test_target = train_test_split(features,target,test_size=0.2,random_state=0)\n",
        "\n",
        "# Train and evaluate the Decision Tree Classifier\n",
        "from sklearn.tree import DecisionTreeClassifier\n",
        "dtc = DecisionTreeClassifier(random_state=0)\n",
        "dtc.fit(train_features, train_target)\n",
        "dtc_y_pred = dtc.predict(test_features)\n",
        "dtc_accuracy = accuracy_score(test_target, dtc_y_pred)\n",
        "\n",
        "# Train and evaluate the Logistic Regression Classifier\n",
        "from sklearn.linear_model import LogisticRegression\n",
        "lr = LogisticRegression(random_state=0)\n",
        "lr.fit(train_features, train_target)\n",
        "lr_y_pred = lr.predict(test_features)\n",
        "lr_accuracy = accuracy_score(test_target, lr_y_pred)\n",
        "\n",
        "# Train and evaluate the KNN Classifier\n",
        "from sklearn.neighbors import KNeighborsClassifier\n",
        "knn = KNeighborsClassifier()\n",
        "knn.fit(train_features, train_target)\n",
        "knn_y_pred = knn.predict(test_features)\n",
        "knn_accuracy = accuracy_score(test_target, knn_y_pred)\n",
        "\n",
        "# Train and evaluate the Random Forest Classifier\n",
        "from sklearn.ensemble import RandomForestClassifier\n",
        "rfc = RandomForestClassifier(n_estimators=100,random_state=0)\n",
        "rfc.fit(train_features, train_target)\n",
        "rfc_y_pred = rfc.predict(test_features)\n",
        "rfc_accuracy = accuracy_score(test_target, rfc_y_pred)\n",
        "\n",
        "# Print the accuracies\n",
        "print(\"Decision Tree Accuracy:\", dtc_accuracy)\n",
        "print(\"Logistic Regression Accuracy:\", lr_accuracy)\n",
        "print(\"KNN Accuracy:\", knn_accuracy)\n",
        "print(\"Random Forest Accuracy:\", rfc_accuracy)\n"
      ]
    }
  ]
}